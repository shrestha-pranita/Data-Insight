{
 "cells": [
  {
   "cell_type": "code",
   "execution_count": 15,
   "metadata": {},
   "outputs": [
    {
     "name": "stdout",
     "output_type": "stream",
     "text": [
      "{}\n",
      "{}\n"
     ]
    }
   ],
   "source": [
    "### To create a dictionary ###\n",
    "\n",
    "# Empty dictionary\n",
    "my_dict = {}\n",
    "my_dict1 = dict()\n",
    "\n",
    "print(my_dict)\n",
    "print(my_dict1)"
   ]
  },
  {
   "cell_type": "code",
   "execution_count": 16,
   "metadata": {},
   "outputs": [
    {
     "name": "stdout",
     "output_type": "stream",
     "text": [
      "{1: 'dog', 2: 'cat', 3: 'elephant'}\n",
      "{'name': 'Kat', 'age': 25, 'address': 'Baluwatar'}\n",
      "{'name': 'Ford', 1: 'BMW', 'model': 'Mustang'}\n"
     ]
    }
   ],
   "source": [
    "# With integer keys\n",
    "animals = {1 : \"dog\", 2 : \"cat\", 3 : \"elephant\"}\n",
    "\n",
    "# With string keys\n",
    "person = {\"name\" : \"Kat\", \"age\" : 25, \"address\" : \"Baluwatar\"}\n",
    "\n",
    "# With mixed keys\n",
    "car = dict({\"name\" : \"Ford\", 1 : \"BMW\", \"model\" : \"Mustang\"})\n",
    "\n",
    "print(animals)\n",
    "print(person)\n",
    "print(car)"
   ]
  },
  {
   "cell_type": "code",
   "execution_count": 17,
   "metadata": {},
   "outputs": [
    {
     "name": "stdout",
     "output_type": "stream",
     "text": [
      "{'dict1': {'name': 'Ford', 'brand': 'Mustang', 'year': 1996}, 'dict2': {'name': 'BMW', 'brand': 'Rolls-Royce', 'year': 2000}}\n"
     ]
    }
   ],
   "source": [
    "### Nested Dictionary ###\n",
    "car = dict({\"dict1\": {\"name\" : \"Ford\", \"brand\" : \"Mustang\", \"year\" : 1996}, \"dict2\" : {\"name\" : \"BMW\", \"brand\" : \"Rolls-Royce\", \"year\" : 2000}})\n",
    "print(car)"
   ]
  },
  {
   "cell_type": "code",
   "execution_count": 24,
   "metadata": {},
   "outputs": [
    {
     "name": "stdout",
     "output_type": "stream",
     "text": [
      "Woof\n",
      "Mustang\n",
      "25\n"
     ]
    }
   ],
   "source": [
    "### Access elements in the dictionary ###\n",
    "\n",
    "# Access element by using key\n",
    "p = person[\"name\"]\n",
    "c = car[\"dict1\"][\"brand\"]\n",
    "\n",
    "# Access elements by using get() method\n",
    "g = person.get(\"age\")\n",
    "\n",
    "print(p)\n",
    "print(c)\n",
    "print(g)"
   ]
  },
  {
   "cell_type": "code",
   "execution_count": 18,
   "metadata": {},
   "outputs": [
    {
     "name": "stdout",
     "output_type": "stream",
     "text": [
      "{1: 'dog', 2: 'cat', 3: 'crocodile'}\n",
      "{'dict1': {'name': 'Ford', 'brand': 'Mustang', 'year': 1996}, 'dict2': {'name': 'BMW', 'brand': 'Rolls-Royce', 'year': 2000}, 'dict3': {'name': 'Hyundai', 'brand': 'Santro', 'year': 2010}}\n"
     ]
    }
   ],
   "source": [
    "### Add elements to dictionary ###\n",
    "\n",
    "# Simple way of adding elemtns to the dictionary\n",
    "animals[3] = \"crocodile\"\n",
    "\n",
    "# Add another dictionary in the nested dictionary\n",
    "dict3 = {\"name\" : \"Hyundai\", \"brand\" : \"Santro\", \"year\" : 2010}\n",
    "car[\"dict3\"] = dict3\n",
    "\n",
    "print(animals)\n",
    "print(car)"
   ]
  },
  {
   "cell_type": "code",
   "execution_count": 19,
   "metadata": {},
   "outputs": [
    {
     "name": "stdout",
     "output_type": "stream",
     "text": [
      "{'name': 'Woof', 'age': 25, 'address': 'Baluwatar'}\n",
      "{'dict1': {'name': 'Toyota', 'brand': 'Mustang', 'year': 1996}, 'dict2': {'name': 'BMW', 'brand': 'Rolls-Royce', 'year': 2000}, 'dict3': {'name': 'Hyundai', 'brand': 'Santro', 'year': 2010}}\n"
     ]
    }
   ],
   "source": [
    "person[\"name\"] = \"Woof\"\n",
    "car[\"dict1\"][\"name\"] = \"Toyota\"\n",
    "\n",
    "print(person)\n",
    "print(car)"
   ]
  }
 ],
 "metadata": {
  "kernelspec": {
   "display_name": "Python 3",
   "language": "python",
   "name": "python3"
  },
  "language_info": {
   "codemirror_mode": {
    "name": "ipython",
    "version": 3
   },
   "file_extension": ".py",
   "mimetype": "text/x-python",
   "name": "python",
   "nbconvert_exporter": "python",
   "pygments_lexer": "ipython3",
   "version": "3.7.3"
  }
 },
 "nbformat": 4,
 "nbformat_minor": 2
}
