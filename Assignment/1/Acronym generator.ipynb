{
 "cells": [
  {
   "cell_type": "code",
   "execution_count": 1,
   "metadata": {},
   "outputs": [],
   "source": [
    "# Acronym generator from long words or phrases."
   ]
  },
  {
   "cell_type": "code",
   "execution_count": 2,
   "metadata": {},
   "outputs": [
    {
     "name": "stdout",
     "output_type": "stream",
     "text": [
      "Enter the phrase: national aeronautics and space administration\n"
     ]
    }
   ],
   "source": [
    "# Step 1:\n",
    "\n",
    "# take user input\n",
    "user_input = input(\"Enter the phrase: \")\n",
    "\n",
    "# clone the user input into phrase variable\n",
    "phrase = user_input[:]"
   ]
  },
  {
   "cell_type": "code",
   "execution_count": 3,
   "metadata": {},
   "outputs": [],
   "source": [
    "# Step 2:\n",
    "\n",
    "# split the phrase into sub-strings\n",
    "phrase_split = phrase.split()\n",
    "acronym = \"\""
   ]
  },
  {
   "cell_type": "code",
   "execution_count": 4,
   "metadata": {},
   "outputs": [],
   "source": [
    "# Step 3:\n",
    "\n",
    "# list of stop words\n",
    "stop_words = [\"of\", \"in\", \"and\", \"the\", \"from\", \"as\", \"a\", \"about\", \"at\", \"an\"]"
   ]
  },
  {
   "cell_type": "code",
   "execution_count": 5,
   "metadata": {},
   "outputs": [
    {
     "data": {
      "text/plain": [
       "'\\n# iterate through every substring\\nfor i in phrase_split:\\n    if i in stop_words:\\n        # remove the word from the phrase_split array\\n        phrase_split.remove(i)\\n'"
      ]
     },
     "execution_count": 5,
     "metadata": {},
     "output_type": "execute_result"
    }
   ],
   "source": [
    "# Optional:\n",
    "\n",
    "\"\"\"\n",
    "# iterate through every substring\n",
    "for i in phrase_split:\n",
    "    if i in stop_words:\n",
    "        # remove the word from the phrase_split array\n",
    "        phrase_split.remove(i)\n",
    "\"\"\""
   ]
  },
  {
   "cell_type": "code",
   "execution_count": 6,
   "metadata": {},
   "outputs": [],
   "source": [
    "# Step 4:\n",
    "\n",
    "# iterate through every substring\n",
    "for i in phrase_split:\n",
    "    # remove if line if you want to run \"Optional\" section.\n",
    "    if i not in stop_words:\n",
    "        acronym = acronym + i[0].upper()"
   ]
  },
  {
   "cell_type": "code",
   "execution_count": 7,
   "metadata": {},
   "outputs": [
    {
     "name": "stdout",
     "output_type": "stream",
     "text": [
      "The acronym for your phrase is  NASA.\n"
     ]
    }
   ],
   "source": [
    "# Step 5:\n",
    "\n",
    "# print the acronym\n",
    "print(\"The acronym for your phrase is \",acronym + \".\")"
   ]
  },
  {
   "cell_type": "code",
   "execution_count": null,
   "metadata": {},
   "outputs": [],
   "source": []
  }
 ],
 "metadata": {
  "kernelspec": {
   "display_name": "Python 3",
   "language": "python",
   "name": "python3"
  },
  "language_info": {
   "codemirror_mode": {
    "name": "ipython",
    "version": 3
   },
   "file_extension": ".py",
   "mimetype": "text/x-python",
   "name": "python",
   "nbconvert_exporter": "python",
   "pygments_lexer": "ipython3",
   "version": "3.7.3"
  }
 },
 "nbformat": 4,
 "nbformat_minor": 2
}
